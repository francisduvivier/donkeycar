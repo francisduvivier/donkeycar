{
 "cells": [
  {
   "cell_type": "markdown",
   "metadata": {
    "id": "UMLVapeNh_1_"
   },
   "source": [
    "# Execution parameters"
   ]
  },
  {
   "cell_type": "code",
   "execution_count": null,
   "metadata": {
    "id": "pt7MbRwChu1u"
   },
   "outputs": [],
   "source": [
    "# Contains the path where the training data files can be found\n",
    "TRAINING_DATA_PATH = '/content/drive/MyDrive/Race2TheFuture/TrainingData'\n",
    "\n",
    "# Contains the path where the trained model must be saved, if this folder already contains a trained model it will be overwritten\n",
    "TRAINED_MODEL_OUTPUT_PATH = '/content/drive/MyDrive/Race2TheFuture/TrainedModels'\n",
    "\n",
    "# Update this parameter if you want extra information for debugging\n",
    "%env CUSTOM_AUGMENTATION_WRITE_IMG = True\n",
    "\n",
    "# Uodate this parameter if you want the trained model files to be downloaded to your local machine\n",
    "DOWNLOAD_TRAINEDMODEL = False\n"
   ]
  },
  {
   "cell_type": "markdown",
   "metadata": {
    "id": "4-tnDL1phozq"
   },
   "source": [
    "# Validate preconditons"
   ]
  },
  {
   "cell_type": "markdown",
   "metadata": {
    "id": "WxIDgMoQjQBv"
   },
   "source": [
    "## Package imports"
   ]
  },
  {
   "cell_type": "code",
   "execution_count": null,
   "metadata": {
    "id": "0YnroeZDi8__"
   },
   "outputs": [],
   "source": [
    "import os\n",
    "import shutil"
   ]
  },
  {
   "cell_type": "markdown",
   "metadata": {
    "id": "LZtwRBTfj0n6"
   },
   "source": [
    "## Variables"
   ]
  },
  {
   "cell_type": "code",
   "execution_count": null,
   "metadata": {
    "id": "na8n7FK9ierg"
   },
   "outputs": [],
   "source": [
    "executionFailed = False"
   ]
  },
  {
   "cell_type": "markdown",
   "metadata": {
    "id": "vipkTYH9iEx8"
   },
   "source": [
    "## Validate preconditions"
   ]
  },
  {
   "cell_type": "code",
   "execution_count": null,
   "metadata": {
    "id": "cxOP1XIviKkv"
   },
   "outputs": [],
   "source": [
    "# Commented out as google drive should already be mounted, if not the case thia code can be uncommented\n",
    "# Mount google drive\n",
    "# from google.colab import drive\n",
    "# drive.mount('/content/drive')"
   ]
  },
  {
   "cell_type": "code",
   "execution_count": null,
   "metadata": {
    "id": "3hKhlaxGiO_p"
   },
   "outputs": [],
   "source": [
    "# Validate if TRAINING_DATA_PATH exist\n",
    "try:\n",
    "  if os.path.isdir(TRAINING_DATA_PATH):\n",
    "    print('Path is accessible: {}'.format(TRAINING_DATA_PATH))\n",
    "  else:\n",
    "    executionFailed = True\n",
    "    print('Path does not exist or is not accessible: {}'.format(TRAINING_DATA_PATH))\n",
    "except:\n",
    "  executionFailed = True\n",
    "  print('Path does not exist or is not accessible: {}'.format(TRAINING_DATA_PATH))"
   ]
  },
  {
   "cell_type": "code",
   "execution_count": null,
   "metadata": {
    "id": "Y8_7Q6WVjsGd"
   },
   "outputs": [],
   "source": [
    "# Retrieve all .tar files available in the training data folder\n",
    "if not executionFailed:\n",
    "  TRAINING_DATA_FILES = []\n",
    "  for fileName in os.listdir(TRAINING_DATA_PATH):\n",
    "    fileExtension = os.path.splitext(fileName)[1]\n",
    "    if fileExtension.lower() == '.tar':\n",
    "        TRAINING_DATA_FILES.append(fileName)\n",
    "  print(TRAINING_DATA_FILES)\n",
    "else:\n",
    "  print('Execution skipped as an error occured in a previous step')"
   ]
  },
  {
   "cell_type": "code",
   "execution_count": null,
   "metadata": {
    "id": "RjsvTWOmj6d7"
   },
   "outputs": [],
   "source": [
    "# Validate that there are training files available\n",
    "if not executionFailed:\n",
    "  if len(TRAINING_DATA_FILES) == 0:\n",
    "    executionFailed = True\n",
    "    print('Execution stopped as not training data is available')\n",
    "  else:\n",
    "    print('Number of training files available: {}'.format(len(TRAINING_DATA_FILES)))\n",
    "else:\n",
    "  print('Execution skipped as an error occured in a previous step')"
   ]
  },
  {
   "cell_type": "code",
   "execution_count": null,
   "metadata": {
    "id": "34DfIE3ZkQSr"
   },
   "outputs": [],
   "source": [
    "# Validate if TRAINED_MODEL_OUTPUT_PATH exist, if not create\n",
    "if not executionFailed:\n",
    "  try:\n",
    "    if os.path.isdir(TRAINED_MODEL_OUTPUT_PATH):\n",
    "      print('Path is accessible: {}'.format(TRAINED_MODEL_OUTPUT_PATH))\n",
    "    else:\n",
    "      print('Path does not exist, try to create it: {}'.format(TRAINED_MODEL_OUTPUT_PATH))\n",
    "      os.makedirs(TRAINED_MODEL_OUTPUT_PATH)\n",
    "      if os.path.isdir(TRAINED_MODEL_OUTPUT_PATH):\n",
    "        print('=> Path successfully created')\n",
    "      else:\n",
    "        executionFailed = True\n",
    "        print('=> Unable to create path')\n",
    "  except:\n",
    "    executionFailed = True\n",
    "    print('Unable to create or access: {}'.format(TRAINED_MODEL_OUTPUT_PATH))\n",
    "else:\n",
    "  print('Execution skipped as an error occured in a previous step')"
   ]
  },
  {
   "cell_type": "markdown",
   "metadata": {
    "id": "ZNe4xu3wovnk"
   },
   "source": [
    "# Setup TensorFlow"
   ]
  },
  {
   "cell_type": "code",
   "execution_count": null,
   "metadata": {
    "id": "cWmjfvU6o6jT"
   },
   "outputs": [],
   "source": [
    "if not executionFailed:\n",
    "  import tensorflow\n",
    "  print('Tensorflow version: {}'.format(tensorflow.__version__))\n",
    "else:\n",
    "  print('Execution skipped as an error occured in a previous step')"
   ]
  },
  {
   "cell_type": "markdown",
   "metadata": {
    "id": "4EIV8ZMno7bT"
   },
   "source": [
    "# Setup DonkeyCar"
   ]
  },
  {
   "cell_type": "markdown",
   "metadata": {
    "id": "scdsJ9IlpdG6"
   },
   "source": [
    "## Clone DonkeyCar repository en switch to correct branch"
   ]
  },
  {
   "cell_type": "code",
   "execution_count": null,
   "metadata": {
    "id": "O2di51Nno_QK"
   },
   "outputs": [],
   "source": [
    "if not executionFailed:\n",
    "  !git clone https://github.com/autorope/donkeycar.git \n",
    "  !git checkout main\n",
    "\n",
    "  %cd /content/donkeycar\n",
    "else:\n",
    "  print('Execution skipped as an error occured in a previous step')"
   ]
  },
  {
   "cell_type": "markdown",
   "metadata": {
    "id": "ijmNa6uVvRE3"
   },
   "source": [
    "## Install DonkeyCar"
   ]
  },
  {
   "cell_type": "code",
   "execution_count": null,
   "metadata": {
    "id": "NM1XP-w0vTUL"
   },
   "outputs": [],
   "source": [
    "if not executionFailed:\n",
    "  !pip3 install -e .[pc]\n",
    "else:\n",
    "  print('Execution skipped as an error occured in a previous step')"
   ]
  },
  {
   "cell_type": "markdown",
   "metadata": {
    "id": "5-WU8pS4pkfz"
   },
   "source": [
    "## Create project (mycar)"
   ]
  },
  {
   "cell_type": "code",
   "execution_count": null,
   "metadata": {
    "id": "Jfec__WipK0U"
   },
   "outputs": [],
   "source": [
    "if not executionFailed:\n",
    "  !donkey createcar --path /content/mycar\n",
    "else:\n",
    "  print('Execution skipped as an error occured in a previous step')"
   ]
  },
  {
   "cell_type": "markdown",
   "metadata": {
    "id": "sF3Sj3IMprot"
   },
   "source": [
    "# Upload trainingdata"
   ]
  },
  {
   "cell_type": "code",
   "execution_count": null,
   "metadata": {
    "id": "8fRB10UOtKM9"
   },
   "outputs": [],
   "source": [
    "if not executionFailed:\n",
    "  trainingdata_uploadpath = '/content/mycar/tubs'\n",
    "else:\n",
    "  print('Execution skipped as an error occured in a previous step')"
   ]
  },
  {
   "cell_type": "markdown",
   "metadata": {
    "id": "PpW-rDMerUxW"
   },
   "source": [
    "## Prepare the upload path"
   ]
  },
  {
   "cell_type": "code",
   "execution_count": null,
   "metadata": {
    "id": "ghov3Cn0s_-5"
   },
   "outputs": [],
   "source": [
    "if not executionFailed:\n",
    "  !rm -r /content/mycar/data &> /dev/null\n",
    "  !rm -r {trainingdata_uploadpath} &> /dev/null\n",
    "  !mkdir {trainingdata_uploadpath}\n",
    "\n",
    "  if os.path.isdir(trainingdata_uploadpath):\n",
    "    print('Path is accessible: {}'.format(trainingdata_uploadpath))\n",
    "  else:\n",
    "    executionFailed = True\n",
    "    print('Unable to acces path is accessible: {}'.format(trainingdata_uploadpath))\n",
    "else:\n",
    "  print('Execution skipped as an error occured in a previous step')"
   ]
  },
  {
   "cell_type": "markdown",
   "metadata": {
    "id": "mBnXs-inrWiD"
   },
   "source": [
    "## Extract the trainingdata (tar files) to the upload location"
   ]
  },
  {
   "cell_type": "code",
   "execution_count": null,
   "metadata": {
    "id": "kBH7yVUMxq_G"
   },
   "outputs": [],
   "source": [
    "if not executionFailed:\n",
    "  # Switch to the mycar directory\n",
    "  %cd /content/mycar/\n",
    "  !ls -al\n",
    "else:\n",
    "  print('Execution skipped as an error occured in a previous step')"
   ]
  },
  {
   "cell_type": "code",
   "execution_count": null,
   "metadata": {
    "id": "q24vNg43zjd6"
   },
   "outputs": [],
   "source": [
    "if not executionFailed:\n",
    "  # Switch to the tub directory\n",
    "  %cd {trainingdata_uploadpath}\n",
    "  !ls -al\n",
    "else:\n",
    "  print('Execution skipped as an error occured in a previous step')"
   ]
  },
  {
   "cell_type": "code",
   "execution_count": null,
   "metadata": {
    "id": "utoTe17Kx4X2"
   },
   "outputs": [],
   "source": [
    "if not executionFailed:\n",
    "  # Extract each training data file\n",
    "  for fileName in TRAINING_DATA_FILES:\n",
    "    tubName = os.path.splitext(fileName)[0]\n",
    "    fullTarFilePath = os.path.join(os.sep, TRAINING_DATA_PATH, fileName)\n",
    "    fullTubPath = os.path.join(os.sep, trainingdata_uploadpath, tubName)\n",
    "    print('Extract {} => {}'.format(fullTarFilePath, fullTubPath))\n",
    "    !mkdir {fullTubPath}\n",
    "    %cd {fullTubPath}\n",
    "    !tar -xvf {fullTarFilePath}\n",
    "else:\n",
    "  print('Execution skipped as an error occured in a previous step')"
   ]
  },
  {
   "cell_type": "markdown",
   "metadata": {
    "id": "U3ahbI3qrat3"
   },
   "source": [
    "# Train your model"
   ]
  },
  {
   "cell_type": "code",
   "execution_count": null,
   "metadata": {
    "id": "P17AQtXrSL1x"
   },
   "outputs": [],
   "source": [
    "if not executionFailed:\n",
    "  training_tub_paths = ''\n",
    "  for fileName in TRAINING_DATA_FILES:\n",
    "    tubName = os.path.splitext(fileName)[0]\n",
    "    fullTubFilePath = os.path.join(os.sep, trainingdata_uploadpath, tubName)\n",
    "    fullTubFilePath_data = os.path.join(os.sep, fullTubFilePath, 'data')\n",
    "    if training_tub_paths == '':\n",
    "      training_tub_paths = fullTubFilePath_data\n",
    "    else:\n",
    "      training_tub_paths = '{},{}'.format(training_tub_paths, fullTubFilePath_data)\n",
    "  print(training_tub_paths)\n",
    "else:\n",
    "  print('Execution skipped as an error occured in a previous step')"
   ]
  },
  {
   "cell_type": "code",
   "execution_count": null,
   "metadata": {
    "id": "74C3I5XgTDCb"
   },
   "outputs": [],
   "source": [
    "if not executionFailed:\n",
    "  !donkey train --tub '{training_tub_paths}' --model /content/mycar/models/mypilot.h5 --config /content/mycar/config.py\n",
    "else:\n",
    "  print('Execution skipped as an error occured in a previous step')"
   ]
  },
  {
   "cell_type": "markdown",
   "metadata": {
    "id": "YWyvSwcUrbp3"
   },
   "source": [
    "# Retrieve trained model"
   ]
  },
  {
   "cell_type": "code",
   "execution_count": null,
   "metadata": {
    "id": "x4t_H88tVaV2"
   },
   "outputs": [],
   "source": [
    "if not executionFailed:\n",
    "  trainedModelPath = '/content/mycar/models'\n",
    "  expectedTrainingFiles = ['database.json', 'mypilot.h5', 'mypilot.png', 'mypilot.tflite']\n",
    "else:\n",
    "  print('Execution skipped as an error occured in a previous step')"
   ]
  },
  {
   "cell_type": "markdown",
   "metadata": {
    "id": "BKWVo83Qrc7h"
   },
   "source": [
    "## Validate if trained model is available"
   ]
  },
  {
   "cell_type": "code",
   "execution_count": null,
   "metadata": {
    "id": "2RPqbKm5UV6C"
   },
   "outputs": [],
   "source": [
    "if not executionFailed:\n",
    "  !ls -alh {trainedModelPath}\n",
    "  %cd {trainedModelPath}\n",
    "else:\n",
    "  print('Execution skipped as an error occured in a previous step')"
   ]
  },
  {
   "cell_type": "code",
   "execution_count": null,
   "metadata": {
    "id": "RxdoLunAZ_wI"
   },
   "outputs": [],
   "source": [
    "if not executionFailed:\n",
    "  for fileName in expectedTrainingFiles:\n",
    "    trainedModelFullFilePath = os.path.join(os.sep, trainedModelPath, fileName)\n",
    "    if os.path.isfile(trainedModelFullFilePath):\n",
    "      print('Training file: {} => Exists'.format(trainedModelFullFilePath))\n",
    "    else:\n",
    "      executionFailed = True\n",
    "      print('Training file: {} => Does not exists'.format(trainedModelFullFilePath))\n",
    "else:\n",
    "  print('Execution skipped as an error occured in a previous step')"
   ]
  },
  {
   "cell_type": "markdown",
   "metadata": {
    "id": "lrz_nc5Xrdzj"
   },
   "source": [
    "## Copy files to TRAINED_MODEL_OUTPUT_PATH"
   ]
  },
  {
   "cell_type": "code",
   "execution_count": null,
   "metadata": {
    "id": "urffIZ2nVfYP"
   },
   "outputs": [],
   "source": [
    "if not executionFailed:\n",
    "  for fileName in expectedTrainingFiles:\n",
    "    trainedModelFullFilePath_Source = os.path.join(os.sep, trainedModelPath, fileName)\n",
    "    trainedModelFullFilePath_Target = os.path.join(os.sep, TRAINED_MODEL_OUTPUT_PATH, fileName)\n",
    "    !cp {trainedModelFullFilePath_Source} {trainedModelFullFilePath_Target} &> /dev/null\n",
    "    if os.path.isfile(trainedModelFullFilePath):\n",
    "      print('File copy: {} => SUCCESS'.format(trainedModelFullFilePath_Source))\n",
    "    else:\n",
    "      executionFailed = True\n",
    "      print('File copy: {} => FAILED'.format(trainedModelFullFilePath_Source))\n",
    "else:\n",
    "  print('Execution skipped as an error occured in a previous step')"
   ]
  },
  {
   "cell_type": "markdown",
   "metadata": {
    "id": "f8nxLVowrfVC"
   },
   "source": [
    "## Download files to your local machine"
   ]
  },
  {
   "cell_type": "code",
   "execution_count": null,
   "metadata": {
    "id": "TDxNEYq3b1Lb"
   },
   "outputs": [],
   "source": [
    "if not executionFailed:\n",
    "  if DOWNLOAD_TRAINEDMODEL:\n",
    "    from google.colab import files\n",
    "\n",
    "    for fileName in expectedTrainingFiles:\n",
    "      trainedModelFullFilePath = os.path.join(os.sep, TRAINED_MODEL_OUTPUT_PATH, fileName)\n",
    "      files.download(trainedModelFullFilePath)\n",
    "else:\n",
    "  print('Execution skipped as an error occured in a previous step')"
   ]
  },
  {
   "cell_type": "markdown",
   "metadata": {
    "id": "ewd44U6edkNa"
   },
   "source": [
    "#Final"
   ]
  },
  {
   "cell_type": "code",
   "execution_count": null,
   "metadata": {
    "id": "b-48YrCZdmaj"
   },
   "outputs": [],
   "source": [
    "if not executionFailed:\n",
    "  print('No error loggged, training should be successfull')\n",
    "else:\n",
    "  print('Something went wrong, please check the logging in the previous steps to see the issue')"
   ]
  }
 ],
 "metadata": {
  "accelerator": "GPU",
  "colab": {
   "authorship_tag": "ABX9TyNefIzBXKU3UoYZ1pMhzUvK",
   "collapsed_sections": [],
   "mount_file_id": "1gCqcF249LrfDsnhAqJlQt4W6jzk3wq6o",
   "name": "DonkeyCar -- Training (Linear).ipynb",
   "private_outputs": true,
   "provenance": []
  },
  "kernelspec": {
   "display_name": "Python 3 (ipykernel)",
   "language": "python",
   "name": "python3"
  },
  "language_info": {
   "codemirror_mode": {
    "name": "ipython",
    "version": 3
   },
   "file_extension": ".py",
   "mimetype": "text/x-python",
   "name": "python",
   "nbconvert_exporter": "python",
   "pygments_lexer": "ipython3",
   "version": "3.7.16"
  }
 },
 "nbformat": 4,
 "nbformat_minor": 1
}
